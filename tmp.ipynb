{
 "cells": [
  {
   "cell_type": "code",
   "execution_count": 6,
   "source": [
    "from ttslearn.tacotron import Tacotron2TTS\n",
    "from tqdm.notebook import tqdm\n",
    "import soundfile as sf\n",
    "\n",
    "engine = Tacotron2TTS()\n",
    "wav, sr = engine.tts(\"\", tqdm=tqdm)\n",
    "sf.write(\"test.wav\", wav, sr)"
   ],
   "outputs": [
    {
     "output_type": "display_data",
     "data": {
      "application/vnd.jupyter.widget-view+json": {
       "version_major": 2,
       "version_minor": 0,
       "model_id": "e589948cd2a2489db1877659213690aa"
      },
      "text/plain": [
       "  0%|          | 0/39600 [00:00<?, ?it/s]"
      ]
     },
     "metadata": {}
    }
   ],
   "metadata": {}
  },
  {
   "cell_type": "code",
   "execution_count": 1,
   "source": [
    "1/(256)**(0.5)"
   ],
   "outputs": [
    {
     "output_type": "execute_result",
     "data": {
      "text/plain": [
       "0.0625"
      ]
     },
     "metadata": {},
     "execution_count": 1
    }
   ],
   "metadata": {}
  },
  {
   "cell_type": "code",
   "execution_count": 2,
   "source": [
    "import torch\n",
    "from vc_tts_template.fastspeech2 import FastSpeech2\n",
    "from vc_tts_template.fastspeech2.optimizer import ScheduledOptim\n",
    "import matplotlib.pyplot as plt\n",
    "import numpy as np\n",
    "\n",
    "model = FastSpeech2(\n",
    "    max_seq_len=1000, num_vocab=52, encoder_hidden_dim=256, encoder_num_layer=2, encoder_num_head=2, conv_filter_size=256,\n",
    "    conv_kernel_size=[9, 1], encoder_dropout=0.2, variance_predictor_filter_size=256, variance_predictor_kernel_size=5, variance_predictor_dropout=0.2,\n",
    "    pitch_feature_level=1, energy_feature_level=1, pitch_quantization=\"linear\", energy_quantization=\"linear\",\n",
    "    n_bins=256, decoder_hidden_dim=256, decoder_num_layer=4, decoder_num_head=2, decoder_dropout=0.2,\n",
    "    n_mel_channel=80, =0, encoder_fix=False, stats={\"pitch_min\": 70, \"pitch_max\": 750, \"energy_min\": 10, \"energy_max\": 27}, \n",
    "    speakers=None\n",
    ")\n",
    "\n",
    "class ScheduledOptim_old:\n",
    "    \"\"\" A simple wrapper class for learning rate scheduling \"\"\"\n",
    "\n",
    "    def __init__(self, optimizer, warm_up_step, anneal_steps, anneal_rate, current_step=0):\n",
    "\n",
    "        self._optimizer = optimizer\n",
    "        self.n_warmup_steps = warm_up_step\n",
    "        self.anneal_steps = anneal_steps\n",
    "        self.anneal_rate = anneal_rate\n",
    "        self.current_step = current_step\n",
    "        self.init_lr = 0.0625\n",
    "\n",
    "    def step_and_update_lr(self):\n",
    "        self._update_learning_rate()\n",
    "        self._optimizer.step()\n",
    "\n",
    "    def zero_grad(self):\n",
    "        # print(self.init_lr)\n",
    "        self._optimizer.zero_grad()\n",
    "\n",
    "    def load_state_dict(self, path):\n",
    "        self._optimizer.load_state_dict(path)\n",
    "\n",
    "    def _get_lr_scale(self):\n",
    "        lr = np.min(\n",
    "            [\n",
    "                np.power(self.current_step, -0.5),\n",
    "                np.power(self.n_warmup_steps, -1.5) * self.current_step,\n",
    "            ]\n",
    "        )\n",
    "        for s in self.anneal_steps:\n",
    "            if self.current_step > s:\n",
    "                lr = lr * self.anneal_rate\n",
    "        return lr\n",
    "\n",
    "    def _update_learning_rate(self):\n",
    "        \"\"\" Learning rate scheduling per step \"\"\"\n",
    "        self.current_step += 1\n",
    "        lr = self.init_lr * self._get_lr_scale()\n",
    "\n",
    "        for param_group in self._optimizer.param_groups:\n",
    "            param_group[\"lr\"] = lr\n",
    "\n",
    "\n",
    "optimizer_old = torch.optim.Adam(\n",
    "            model.parameters(),\n",
    "            betas=[0.9, 0.98],\n",
    "            eps=0.000000001,\n",
    "            weight_decay=0.0,\n",
    ")\n",
    "optimizer = torch.optim.Adam(\n",
    "            model.parameters(),\n",
    "            lr=0.0625,\n",
    "            betas=[0.9, 0.98],\n",
    "            eps=0.000000001,\n",
    "            weight_decay=0.0,\n",
    ")\n",
    "\n",
    "# lr_scheduler_old = ScheduledOptim_old(optimizer_old, 4000, [300000, 400000, 500000], 0.3)\n",
    "lr_scheduler = ScheduledOptim(4000, [300000, 400000, 500000], 0.3)\n",
    "lr_scheduler._set_optimizer(optimizer)\n",
    "\n",
    "# lrs_old = []\n",
    "lrs_new = []\n",
    "\n",
    "for _ in range(10000):\n",
    "    # print(\"old current    step : \", lr_scheduler_old.current_step)\n",
    "    # print(\"old current      lr : \", lr_scheduler_old._get_lr_scale() * lr_scheduler_old.init_lr)\n",
    "    # print(\"old current  params : \", optimizer_old.param_groups[0][\"lr\"])\n",
    "    # print(\"new current    step : \", lr_scheduler.last_epoch)\n",
    "    # print(\"new current      lr : \", lr_scheduler.get_last_lr())\n",
    "    # print(\"new current  params : \", optimizer.param_groups[0][\"lr\"])\n",
    "    # print()\n",
    "    # print(\"=\"*30)\n",
    "    # lrs_old.append(optimizer_old.param_groups[0][\"lr\"])\n",
    "    lrs_new.append(optimizer.param_groups[0][\"lr\"])\n",
    "\n",
    "    # lr_scheduler_old.step_and_update_lr()\n",
    "    lr_scheduler.step()\n",
    "\n",
    "# plt.plot(lrs_old)\n",
    "plt.plot(lrs_new)\n",
    "plt.show()"
   ],
   "outputs": [
    {
     "output_type": "display_data",
     "data": {
      "image/png": "[encoded data removed]",
      "text/plain": [
       "<Figure size 432x288 with 1 Axes>"
      ]
     },
     "metadata": {
      "needs_background": "light"
     }
    }
   ],
   "metadata": {}
  },
  {
   "cell_type": "code",
   "execution_count": 34,
   "source": [
    "torch.save(optimizer.state_dict(), \"tmp.pth\")\n",
    "torch.save(lr_scheduler.state_dict(), \"tmp_lr.pth\")"
   ],
   "outputs": [],
   "metadata": {}
  },
  {
   "cell_type": "code",
   "execution_count": 35,
   "source": [
    "optimizer_new = torch.optim.Adam(\n",
    "            model.parameters(),\n",
    "            lr=0.0625,\n",
    "            betas=[0.9, 0.98],\n",
    "            eps=0.000000001,\n",
    "            weight_decay=0.0,\n",
    ")\n",
    "optimizer_new.load_state_dict(torch.load(\"tmp.pth\"))\n",
    "print(optimizer_new)\n",
    "lr_scheduler_ = ScheduledOptim(4000, [300000, 400000, 500000], 0.3)\n",
    "lr_scheduler_._set_optimizer(optimizer_new)\n",
    "lr_scheduler_.load_state_dict(torch.load(\"tmp_lr.pth\"))\n",
    "\n",
    "lrs_new_ = []\n",
    "\n",
    "for _ in range(20000):\n",
    "    lrs_new_.append(optimizer_new.param_groups[0][\"lr\"])\n",
    "    lr_scheduler_.step()\n",
    "\n",
    "plt.plot(lrs_new_)\n",
    "plt.show()"
   ],
   "outputs": [
    {
     "output_type": "stream",
     "name": "stdout",
     "text": [
      "Adam (\n",
      "Parameter Group 0\n",
      "    amsgrad: False\n",
      "    betas: [0.9, 0.98]\n",
      "    eps: 1e-09\n",
      "    initial_lr: 0.0625\n",
      "    lr: 0.0006249687523435547\n",
      "    weight_decay: 0.0\n",
      ")\n"
     ]
    },
    {
     "output_type": "display_data",
     "data": {
      "image/png": "[encoded data removed]",
      "text/plain": [
       "<Figure size 432x288 with 1 Axes>"
      ]
     },
     "metadata": {
      "needs_background": "light"
     }
    }
   ],
   "metadata": {}
  },
  {
   "cell_type": "code",
   "execution_count": null,
   "source": [
    "\"\"\"\n",
    "結論\n",
    "- 再現は意外と容易. last_epochと言いつつ, stepごとに更新される値を使って, get_lrを実装すればよいだけ.\n",
    "- loadに関しては, lr_schedulerごと保存しないと意味がない. optimizerだけやっても, 最初から\n",
    "lrのscheduleが始まるだけ.\n",
    "\"\"\""
   ],
   "outputs": [],
   "metadata": {}
  },
  {
   "cell_type": "code",
   "execution_count": 4,
   "source": [
    "from vc_tts_template.fastspeech2 import FastSpeech2TTS\n",
    "from scipy.io import wavfile\n",
    "\n",
    "engine = FastSpeech2TTS(model_dir=\"./recipes/fastspeech2/tts_models/Long_dialogue_sr22050_Long_dialogue_1_fastspeech2wEmotion_hifigan\")"
   ],
   "outputs": [
    {
     "output_type": "stream",
     "name": "stdout",
     "text": [
      "Removing weight norm...\n"
     ]
    }
   ],
   "metadata": {}
  },
  {
   "cell_type": "code",
   "execution_count": 7,
   "source": [
    "wav, sr = engine.tts(\"一貫学習にチャレンジしましょう！\", emotion=\"joy\")\n",
    "wavfile.write(\"tmp.wav\", sr, wav)"
   ],
   "outputs": [],
   "metadata": {}
  },
  {
   "cell_type": "code",
   "execution_count": 10,
   "source": [
    "from glob import glob\n",
    "import os\n",
    "phase = \"eval\"\n",
    "lst = glob(\"./recipes/fastspeech2/dump/jsut_sr22050/org/\"+phase+\"/in_fastspeech2/*.npy\")\n",
    "\n",
    "with open(phase+\".list\", 'w') as f:\n",
    "    for name in lst:\n",
    "        name = os.path.basename(name)\n",
    "        f.write(name.replace(\"-feats.npy\", \"\").strip()+'\\n')"
   ],
   "outputs": [],
   "metadata": {}
  },
  {
   "cell_type": "code",
   "execution_count": 18,
   "source": [
    "nepochs = 50\n",
    "last_epoch = 10\n",
    "\n",
    "from tqdm import tqdm\n",
    "from time import sleep\n",
    "epochs = tqdm(range(last_epoch+1, last_epoch+nepochs+1), total=last_epoch+nepochs, initial=last_epoch, desc=\"epoch\")\n",
    "for epoch in epochs:\n",
    "    sleep(0.01)"
   ],
   "outputs": [
    {
     "output_type": "stream",
     "name": "stderr",
     "text": [
      "epoch: 100%|██████████| 60/60 [00:00<00:00, 98.82it/s]\n"
     ]
    }
   ],
   "metadata": {}
  },
  {
   "cell_type": "code",
   "execution_count": 2,
   "source": [
    "from pathlib import Path\n",
    "from scipy.io import wavfile\n",
    "\n",
    "wav_paths = Path(\"../dataset/out_Long_dialogue/Long_dialogue/wav/22050\")\n",
    "\n",
    "lengthes = []\n",
    "length_map = {}\n",
    "for wav_path in wav_paths.glob(\"*.wav\"):\n",
    "    sr_, wav = wavfile.read(wav_path)\n",
    "    length = len(wav) / sr_\n",
    "\n",
    "    lengthes.append(length)\n",
    "    length_map[wav_path.name] = length"
   ],
   "outputs": [],
   "metadata": {}
  },
  {
   "cell_type": "code",
   "execution_count": 4,
   "source": [
    "import pandas as pd \n",
    "\n",
    "df = pd.DataFrame(lengthes)\n",
    "df.hist()"
   ],
   "outputs": [
    {
     "output_type": "execute_result",
     "data": {
      "text/plain": [
       "array([[<AxesSubplot:title={'center':'0'}>]], dtype=object)"
      ]
     },
     "metadata": {},
     "execution_count": 4
    },
    {
     "output_type": "display_data",
     "data": {
      "image/png": "[encoded data removed]",
      "text/plain": [
       "<Figure size 432x288 with 1 Axes>"
      ]
     },
     "metadata": {
      "needs_background": "light"
     }
    }
   ],
   "metadata": {}
  },
  {
   "cell_type": "code",
   "execution_count": 18,
   "source": [
    "from pathlib import Path\n",
    "from scipy.io import wavfile\n",
    "import pandas as pd\n",
    "import matplotlib.pyplot as plt\n",
    "\n",
    "lab_paths = Path(\"../dataset/out_Long_dialogue/jl_out_lab\")\n",
    "\n",
    "lengthes = []\n",
    "names = []\n",
    "base_names = []\n",
    "for lab_path in lab_paths.glob(\"*.lab\"):\n",
    "    with open(lab_path, 'r') as f:\n",
    "        length = len(f.readlines())\n",
    "    lengthes.append(length)\n",
    "    names.append(lab_path.name)\n",
    "    base_names.append(lab_path.name.split('-')[0])\n",
    "\n",
    "df = pd.DataFrame({\n",
    "    \"phoneme_num\": lengthes,\n",
    "    \"basename\": base_names\n",
    "})"
   ],
   "outputs": [],
   "metadata": {}
  },
  {
   "cell_type": "code",
   "execution_count": 17,
   "source": [
    "df.hist(column=\"phoneme_num\", by=\"basename\", figsize=(20,10), sharex=1)\n",
    "plt.show()"
   ],
   "outputs": [
    {
     "output_type": "display_data",
     "data": {
      "image/png": "[encoded data removed]",
      "text/plain": [
       "<Figure size 1440x720 with 16 Axes>"
      ]
     },
     "metadata": {
      "needs_background": "light"
     }
    }
   ],
   "metadata": {}
  },
  {
   "cell_type": "code",
   "execution_count": 20,
   "source": [
    "import numpy as np\n",
    "np.array(names)[np.array(lengthes) >= 150]"
   ],
   "outputs": [
    {
     "output_type": "execute_result",
     "data": {
      "text/plain": [
       "array(['LD13-Dialogue-05-Teacher-Turn-01_calm.lab',\n",
       "       'LD05-Dialogue-10-Teacher-Turn-04_calm.lab',\n",
       "       'LD10-Dialogue-10-Teacher-Turn-07_calm.lab'], dtype='<U43')"
      ]
     },
     "metadata": {},
     "execution_count": 20
    }
   ],
   "metadata": {}
  },
  {
   "cell_type": "code",
   "execution_count": 2,
   "source": [
    "import numpy as np\n",
    "import matplotlib.pyplot as plt\n",
    "\n",
    "pitch = \"recipes/fastspeech2VC/dump/jsut_jsss_1_sr22050/org/train/in_fastspeech2VC/pitch/jsut_jsss_BASIC5000_0001-feats.npy\"\n",
    "pitch = np.load(pitch)\n",
    "print(pitch)\n",
    "plt.plot(pitch)\n",
    "plt.show()"
   ],
   "outputs": [
    {
     "output_type": "stream",
     "name": "stdout",
     "text": [
      "[5.306778  5.306778  5.306778  5.306778  5.306778  5.306778  5.306778\n",
      " 5.306778  5.306778  5.306778  5.306778  5.306778  5.306778  5.306778\n",
      " 5.3529315 5.349598  5.350495  5.3790097 5.4003377 5.410194  5.4237742\n",
      " 5.437086  5.4408784 5.4306517 5.3724127 5.3376927 5.333244  5.3544273\n",
      " 5.399623  5.472539  5.5443754 5.6056466 5.652719  5.6729884 5.660485\n",
      " 5.6625433 5.6738605 5.679331  5.68483   5.68848   5.69066   5.696092\n",
      " 5.703153  5.6763387 5.6487846 5.649     5.628016  5.611837  5.592307\n",
      " 5.601939  5.6064434 5.5753365 5.545803  5.529382  5.514231  5.511809\n",
      " 5.511911  5.5191174 5.522972  5.5503125 5.635289  5.693635  5.7359257\n",
      " 5.7901506 5.848054  5.8886023 5.9230824 5.934368  5.9270267 5.9171867\n",
      " 5.8974414 5.8372025 5.711224  5.6970468 5.6931863 5.6893106 5.6854196\n",
      " 5.681514  5.6775923 5.6736555 5.669703  5.6657352 5.645353  5.590833\n",
      " 5.504999  5.4553394 5.422756  5.3967752 5.3768153 5.3579235 5.3489237\n",
      " 5.3032184 5.3093367 5.315418  5.321462  5.3274703 5.3334427 5.3393793\n",
      " 5.345281  5.3056874 5.276066  5.251498  5.2160816 5.2050123 5.2346616\n",
      " 5.2285795 5.2053623 5.197205  5.1872597 5.1586194 5.170139  5.1815267\n",
      " 5.1927867 5.2039213 5.214933  5.2258253 5.2366    5.2472596 5.257807\n",
      " 5.336205  5.309456  5.2944326 5.2920494 5.2924047 5.3109655 5.333989\n",
      " 5.369758  5.396089  5.4264    5.457596  5.483047  5.514834  5.5518312\n",
      " 5.585507  5.6207986 5.609467  5.6717143 5.6865845 5.7099137 5.728342\n",
      " 5.7295995 5.7366023 5.7536054 5.7286453 5.727346  5.726045  5.7247424\n",
      " 5.7234383 5.722132  5.7208247 5.7195153 5.718204  5.7168913 5.7155766\n",
      " 5.7142606 5.712942  5.636644  5.576738  5.452131  5.3941493 5.349485\n",
      " 5.322438  5.297635  5.282607  5.26794   5.255002  5.2449913 5.2220135\n",
      " 5.153841  5.1780357 5.167847  5.1430187 5.1227927 5.1344423 5.08954\n",
      " 5.075336  5.0758047 5.083763  5.099108  5.1199975 5.131355  5.1383905\n",
      " 5.1755013 5.2411156 5.271042  5.295642  5.320362  5.341821  5.3542476\n",
      " 5.312111  5.402449  5.4016337 5.4173293 5.3717136 5.337058  5.320064\n",
      " 5.299847  5.283926  5.276808  5.263592  5.238994  5.216277  5.200477\n",
      " 5.1181493 5.180865  5.16751   5.142085  5.13188   5.0950513 5.080074\n",
      " 5.0770903 5.065589  5.0066767 5.013373  5.0509534 5.0740733 5.058156\n",
      " 5.0404773 5.024813  5.040131  5.064156  5.068055  5.099209  5.0157304\n",
      " 5.0157304 5.0157304 5.0157304 5.0157304 5.0157304 5.0157304 5.0157304\n",
      " 5.0157304 5.0157304 5.0157304 5.0157304 5.0157304 5.0157304 5.0157304\n",
      " 5.0157304 5.0157304 5.0157304 5.0157304 5.0157304 5.0157304 5.0157304\n",
      " 5.0157304 5.0157304 5.0157304 5.0157304 5.0157304 5.0157304 5.0157304\n",
      " 5.0157304 5.0157304 5.0157304 5.0157304 5.0157304 5.0157304 5.0157304\n",
      " 5.0157304 5.0157304 5.0157304]\n"
     ]
    },
    {
     "output_type": "display_data",
     "data": {
      "image/png": "[encoded data removed]",
      "text/plain": [
       "<Figure size 432x288 with 1 Axes>"
      ]
     },
     "metadata": {
      "needs_background": "light"
     }
    }
   ],
   "metadata": {}
  },
  {
   "cell_type": "code",
   "execution_count": 8,
   "source": [
    "# pyaudio\n",
    "# install: https://www.javaer101.com/ja/article/30925973.html\n",
    "\n",
    "import pyaudio\n",
    "import numpy as np\n",
    "import matplotlib.pyplot as plt\n",
    "from scipy.io import wavfile\n",
    "from vc_tts_template.fastspeech2VC import FastSpeech2VC\n",
    "\n",
    "########################################\n",
    "rec_time = 1            # 計測時間[s]\n",
    "samplerate = 22050  # サンプリングレート\n",
    "fs = 1024           # フレームサイズ\n",
    "index = 1           # マイクのチャンネル指標\n",
    "model_name = \"\"\n",
    "########################################\n",
    "\n",
    "pa = pyaudio.PyAudio()\n",
    "data = []\n",
    "dt = 1 / samplerate\n",
    "\n",
    "engine = FastSpeech2VC(model_name)"
   ],
   "outputs": [],
   "metadata": {}
  },
  {
   "cell_type": "code",
   "execution_count": null,
   "source": [
    "# ストリームの開始\n",
    "print(\"rec start....\")\n",
    "stream = pa.open(format=pyaudio.paInt16, channels=1, rate=samplerate,\n",
    "                    input=True, input_device_index=index, frames_per_buffer=fs)\n",
    "\n",
    "# フレームサイズ毎に音声を録音していくループ\n",
    "for i in range(int(((rec_time / dt) / fs))):\n",
    "    frame = stream.read(fs)\n",
    "    data.append(frame)\n",
    "\n",
    "# ストリームの終了\n",
    "stream.stop_stream()\n",
    "stream.close()\n",
    "pa.terminate()\n",
    "print(\"rec end\")\n",
    "\n",
    "# データをまとめる処理\n",
    "data = b\"\".join(data)\n",
    "\n",
    "# データをNumpy配列に変換\n",
    "voice = np.frombuffer(data, dtype=\"int16\") / float((np.power(2, 16) / 2) - 1)\n",
    "\n",
    "wav, sr = engine.vc(voice, samplerate)\n",
    "\n",
    "wavfile.write(\"test.wav\", sr, wav)"
   ],
   "outputs": [],
   "metadata": {}
  },
  {
   "cell_type": "code",
   "execution_count": 10,
   "source": [
    "from vc_tts_template.fastspeech2VC import FastSpeech2VC\n",
    "\n",
    "engine = FastSpeech2VC(model_dir=\"recipes/fastspeech2VC/tts_models/jsut_jsss_sr22050_jsut_jsss_1_fastspeech2VC_hifigan\")"
   ],
   "outputs": [
    {
     "output_type": "stream",
     "name": "stdout",
     "text": [
      "Removing weight norm...\n"
     ]
    }
   ],
   "metadata": {}
  },
  {
   "cell_type": "code",
   "execution_count": 13,
   "source": [
    "from scipy.io import wavfile\n",
    "\n",
    "sr_, wav = wavfile.read(\"recipes/fastspeech2VC/downloads/jsut_jsss/source/jsut_jsss_BASIC5000_0001.wav\")\n",
    "\n",
    "wav, sr = engine.vc(wav, sr_)\n",
    "\n",
    "wavfile.write(\"test.wav\", sr, wav)"
   ],
   "outputs": [],
   "metadata": {}
  },
  {
   "cell_type": "code",
   "execution_count": 4,
   "source": [
    "from pathlib import Path\n",
    "\n",
    "wav_path = Path(\"recipes/fastspeech2VC/downloads/jsut_jsss_jvs/source\")\n",
    "spk_dict = {}\n",
    "\n",
    "for wav in wav_path.glob(\"*.wav\"):\n",
    "    spk = wav.stem.split('_')[0]\n",
    "    if spk not in spk_dict.keys():\n",
    "        spk_dict[spk] = len(spk_dict)\n",
    "    spk = wav.stem.split('_')[1]\n",
    "    if spk not in spk_dict.keys():\n",
    "        spk_dict[spk] = len(spk_dict)"
   ],
   "outputs": [],
   "metadata": {}
  },
  {
   "cell_type": "code",
   "execution_count": 5,
   "source": [
    "spk_dict"
   ],
   "outputs": [
    {
     "output_type": "execute_result",
     "data": {
      "text/plain": [
       "{'jvs034': 0,\n",
       " 'jvs002': 1,\n",
       " 'jvs026': 2,\n",
       " 'jvs056': 3,\n",
       " 'JSUT': 4,\n",
       " 'JSSS': 5,\n",
       " 'jvs081': 6,\n",
       " 'jvs012': 7,\n",
       " 'jvs096': 8,\n",
       " 'jvs052': 9,\n",
       " 'jvs088': 10,\n",
       " 'jvs057': 11,\n",
       " 'jvs045': 12,\n",
       " 'jvs010': 13,\n",
       " 'jvs060': 14,\n",
       " 'jvs091': 15,\n",
       " 'jvs068': 16,\n",
       " 'jvs047': 17,\n",
       " 'jvs094': 18,\n",
       " 'jvs071': 19,\n",
       " 'jvs063': 20,\n",
       " 'jvs087': 21,\n",
       " 'jvs049': 22,\n",
       " 'jvs007': 23,\n",
       " 'jvs032': 24,\n",
       " 'jvs070': 25,\n",
       " 'jvs040': 26,\n",
       " 'jvs013': 27,\n",
       " 'jvs067': 28,\n",
       " 'jvs084': 29,\n",
       " 'jvs042': 30,\n",
       " 'jvs024': 31,\n",
       " 'jvs015': 32,\n",
       " 'jvs095': 33,\n",
       " 'jvs083': 34,\n",
       " 'jvs020': 35,\n",
       " 'jvs090': 36,\n",
       " 'jvs093': 37,\n",
       " 'jvs003': 38,\n",
       " 'jvs038': 39,\n",
       " 'jvs039': 40,\n",
       " 'jvs031': 41,\n",
       " 'jvs016': 42,\n",
       " 'jvs046': 43,\n",
       " 'jvs041': 44,\n",
       " 'jvs055': 45,\n",
       " 'jvs072': 46,\n",
       " 'jvs018': 47,\n",
       " 'jvs099': 48,\n",
       " 'jvs033': 49,\n",
       " 'jvs082': 50,\n",
       " 'jvs069': 51,\n",
       " 'jvs078': 52,\n",
       " 'jvs023': 53,\n",
       " 'jvs050': 54,\n",
       " 'jvs058': 55,\n",
       " 'jvs027': 56,\n",
       " 'jvs004': 57,\n",
       " 'jvs086': 58,\n",
       " 'jvs005': 59,\n",
       " 'jvs011': 60,\n",
       " 'jvs017': 61,\n",
       " 'jvs043': 62,\n",
       " 'jvs051': 63,\n",
       " 'jvs097': 64,\n",
       " 'jvs061': 65,\n",
       " 'jvs079': 66,\n",
       " 'jvs001': 67,\n",
       " 'jvs075': 68,\n",
       " 'jvs029': 69,\n",
       " 'jvs073': 70,\n",
       " 'jvs025': 71,\n",
       " 'jvs048': 72,\n",
       " 'jvs053': 73,\n",
       " 'jvs036': 74,\n",
       " 'jvs014': 75,\n",
       " 'jvs062': 76,\n",
       " 'jvs066': 77,\n",
       " 'jvs064': 78,\n",
       " 'jvs080': 79,\n",
       " 'jvs092': 80,\n",
       " 'jvs077': 81,\n",
       " 'jvs100': 82,\n",
       " 'jvs054': 83,\n",
       " 'jvs028': 84,\n",
       " 'jvs035': 85,\n",
       " 'jvs022': 86,\n",
       " 'jvs098': 87,\n",
       " 'jvs076': 88,\n",
       " 'jvs019': 89,\n",
       " 'jvs009': 90,\n",
       " 'jvs044': 91,\n",
       " 'jvs006': 92,\n",
       " 'jvs021': 93,\n",
       " 'jvs037': 94,\n",
       " 'jvs008': 95,\n",
       " 'jvs085': 96,\n",
       " 'jvs059': 97,\n",
       " 'jvs065': 98}"
      ]
     },
     "metadata": {},
     "execution_count": 5
    }
   ],
   "metadata": {}
  },
  {
   "cell_type": "code",
   "execution_count": 1,
   "source": [
    "from pathlib import Path\n",
    "from scipy.io import wavfile\n",
    "import pyworld as pw\n",
    "import numpy as np\n",
    "from tqdm import tqdm\n",
    "from concurrent.futures import ProcessPoolExecutor\n",
    "\n",
    "\n",
    "wav_path_src = Path(\"recipes/fastspeech2VC/downloads/jsut_jsss_jvs/source\")\n",
    "wav_path_tgt = Path(\"recipes/fastspeech2VC/downloads/jsut_jsss_jvs/target\")\n",
    "hop_length = 256\n",
    "n_jobs = 32\n",
    "\n",
    "def preprocess(wav_path):\n",
    "    sr, wav = wavfile.read(wav_path)\n",
    "    pitch, t = pw.dio(\n",
    "        wav.astype(np.float64),\n",
    "        sr,\n",
    "        frame_period=hop_length / sr * 1000,\n",
    "    )\n",
    "    pitch = pw.stonemask(wav.astype(np.float64),\n",
    "                        pitch, t, sr)\n",
    "    if np.sum(pitch != 0) <= 1:\n",
    "        print(wav_path)\n",
    "\n",
    "\n",
    "with ProcessPoolExecutor(n_jobs) as executor:\n",
    "    futures = [\n",
    "        executor.submit(\n",
    "            preprocess,\n",
    "            wav_path\n",
    "        )\n",
    "        for wav_path in list(wav_path_src.glob(\"*.wav\")) + list(wav_path_tgt.glob(\"*.wav\"))\n",
    "    ]\n",
    "    for future in tqdm(futures):\n",
    "        future.result()\n"
   ],
   "outputs": [
    {
     "output_type": "stream",
     "name": "stderr",
     "text": [
      " 16%|█▌        | 14438/90516 [05:30<28:58, 43.75it/s]\n"
     ]
    }
   ],
   "metadata": {}
  },
  {
   "cell_type": "code",
   "execution_count": 1,
   "source": [
    "from recipes.fastspeech2VC.preprocess import get_sentence_duration\n",
    "from scipy.io import wavfile\n",
    "import librosa\n",
    "import numpy as np\n",
    "\n",
    "src_wav_path = \"recipes/fastspeech2VC/downloads/N2C/source/n_c_beyond_tokkun-01.wav\"\n",
    "tgt_wav_path = \"recipes/fastspeech2VC/downloads/N2C/target/n_c_beyond_tokkun-01.wav\"\n",
    "\n",
    "utt_id = \"test\"\n",
    "sr = 22050\n",
    "n_fft = 1024\n",
    "hop_length = 256\n",
    "win_length = 1024\n",
    "fmin = 0\n",
    "fmax = 8000\n",
    "clip_thresh = 0.00001\n",
    "log_base = \"natural\"\n",
    "min_silence_len = 500\n",
    "silence_thresh = -80\n",
    "chunk_size = 50\n",
    "\n",
    "wavs = []\n",
    "for wav_path in [src_wav_path, tgt_wav_path]:\n",
    "    _sr, x = wavfile.read(wav_path)\n",
    "    if x.dtype in [np.int16, np.int32]:\n",
    "        x = (x / np.iinfo(x.dtype).max).astype(np.float64)\n",
    "    wav = librosa.resample(x, _sr, sr)\n",
    "    wavs.append(wav)\n",
    "\n",
    "get_sentence_duration(\n",
    "    utt_id, wavs[0], wavs[1], sr, n_fft, hop_length, win_length,\n",
    "    fmin, fmax, clip_thresh, log_base, tgt_wav_path,\n",
    "    min_silence_len, silence_thresh\n",
    ")"
   ],
   "outputs": [
    {
     "output_type": "stream",
     "name": "stderr",
     "text": [
      "/tmp/ipykernel_1689004/3866524869.py:24: WavFileWarning: Chunk (non-data) not understood, skipping it.\n",
      "  _sr, x = wavfile.read(wav_path)\n",
      "/tmp/ipykernel_1689004/3866524869.py:24: WavFileWarning: Chunk (non-data) not understood, skipping it.\n",
      "  _sr, x = wavfile.read(wav_path)\n"
     ]
    },
    {
     "output_type": "execute_result",
     "data": {
      "text/plain": [
       "[292, 196, 279, 307, 159, 186, 88]"
      ]
     },
     "metadata": {},
     "execution_count": 1
    },
    {
     "output_type": "display_data",
     "data": {
      "image/png": "[encoded data removed]",
      "text/plain": [
       "<Figure size 720x1440 with 2 Axes>"
      ]
     },
     "metadata": {
      "needs_background": "light"
     }
    }
   ],
   "metadata": {}
  },
  {
   "cell_type": "code",
   "execution_count": 4,
   "source": [
    "import torch\n",
    "\n",
    "x = torch.Tensor([1])\n",
    "print(id(x))\n",
    "y = x.detach()\n",
    "print(id(y))\n",
    "\n",
    "y = y + torch.Tensor([2])\n",
    "print(id(y))\n",
    "\n",
    "y += torch.Tensor([2])\n",
    "print(id(y))\n",
    "\n",
    "print(x)\n",
    "print(y)\n",
    "\n",
    "x = torch.Tensor([1])\n",
    "print(id(x))\n",
    "y = x.detach()\n",
    "print(id(y))\n",
    "\n",
    "y += torch.Tensor([2])\n",
    "print(id(y))\n",
    "\n",
    "y = y + torch.Tensor([2])\n",
    "print(id(y))\n",
    "\n",
    "print(x)\n",
    "print(y)"
   ],
   "outputs": [
    {
     "output_type": "stream",
     "name": "stdout",
     "text": [
      "140340425343760\n",
      "140340425333632\n",
      "140334882528368\n",
      "140334882528368\n",
      "tensor([1.])\n",
      "tensor([5.])\n",
      "140334882589008\n",
      "140340425333552\n",
      "140340425333552\n",
      "140340425333632\n",
      "tensor([3.])\n",
      "tensor([5.])\n"
     ]
    }
   ],
   "metadata": {}
  },
  {
   "cell_type": "code",
   "execution_count": 8,
   "source": [
    "from sentence_transformers import SentenceTransformer\n",
    "import numpy as np\n",
    "\n",
    "def cos_sim(v1, v2):\n",
    "    return np.dot(v1, v2) / (np.linalg.norm(v1) * np.linalg.norm(v2))\n",
    "\n",
    "model = SentenceTransformer('all-mpnet-base-v2')\n",
    "text1, text2 = model.encode([\"月がきれいですね\", \"愛しています\"])\n",
    "\n",
    "print(\"cosine similarity: \", cos_sim(text1, text2))\n",
    "\n",
    "model = SentenceTransformer(\"colorfulscoop/sbert-base-ja\")\n",
    "text1, text2 = model.encode([\"月がきれいですね\", \"愛しています\"])\n",
    "\n",
    "print(\"cosine similarity: \", cos_sim(text1, text2))\n",
    "\n",
    "print(\"=\"*30)\n",
    "\n",
    "model = SentenceTransformer('all-mpnet-base-v2')\n",
    "text1, text2 = model.encode([\"あんたなんか、全然好きなんかじゃないんだからね！\", \"愛しています\"])\n",
    "\n",
    "print(\"cosine similarity: \", cos_sim(text1, text2))\n",
    "\n",
    "model = SentenceTransformer(\"colorfulscoop/sbert-base-ja\")\n",
    "text1, text2 = model.encode([\"あんたなんか、全然好きなんかじゃないんだからね！\", \"愛しています\"])\n",
    "\n",
    "print(\"cosine similarity: \", cos_sim(text1, text2))\n",
    "\n",
    "print(\"=\"*30)\n",
    "\n",
    "model = SentenceTransformer('all-mpnet-base-v2')\n",
    "text1, text2 = model.encode([\"嫌いです\", \"愛しています\"])\n",
    "\n",
    "print(\"cosine similarity: \", cos_sim(text1, text2))\n",
    "\n",
    "model = SentenceTransformer(\"colorfulscoop/sbert-base-ja\")\n",
    "text1, text2 = model.encode([\"嫌いです\", \"愛しています\"])\n",
    "\n",
    "print(\"cosine similarity: \", cos_sim(text1, text2))"
   ],
   "outputs": [
    {
     "output_type": "stream",
     "name": "stdout",
     "text": [
      "cosine similarity:  0.6188397\n",
      "cosine similarity:  0.35803473\n",
      "==============================\n",
      "cosine similarity:  0.6706692\n",
      "cosine similarity:  0.3073956\n",
      "==============================\n",
      "cosine similarity:  0.7002877\n",
      "cosine similarity:  0.42581898\n"
     ]
    }
   ],
   "metadata": {}
  },
  {
   "cell_type": "code",
   "execution_count": 9,
   "source": [
    "print(\"=\"*30)\n",
    "\n",
    "model = SentenceTransformer('all-mpnet-base-v2')\n",
    "text1, text2 = model.encode([\"二度と会いたくない\", \"毎日会いに来てほしい\"])\n",
    "\n",
    "print(\"cosine similarity: \", cos_sim(text1, text2))\n",
    "\n",
    "model = SentenceTransformer(\"colorfulscoop/sbert-base-ja\")\n",
    "text1, text2 = model.encode([\"二度と会いたくない\", \"毎日会いに来てほしい\"])\n",
    "\n",
    "print(\"cosine similarity: \", cos_sim(text1, text2))"
   ],
   "outputs": [
    {
     "output_type": "stream",
     "name": "stdout",
     "text": [
      "==============================\n",
      "cosine similarity:  0.7368731\n",
      "cosine similarity:  0.51995426\n"
     ]
    }
   ],
   "metadata": {}
  },
  {
   "cell_type": "code",
   "execution_count": null,
   "source": [],
   "outputs": [],
   "metadata": {}
  }
 ],
 "metadata": {
  "orig_nbformat": 4,
  "language_info": {
   "name": "python",
   "version": "3.8.11",
   "mimetype": "text/x-python",
   "codemirror_mode": {
    "name": "ipython",
    "version": 3
   },
   "pygments_lexer": "ipython3",
   "nbconvert_exporter": "python",
   "file_extension": ".py"
  },
  "kernelspec": {
   "name": "python3",
   "display_name": "Python 3.8.11 64-bit ('vc_tts_template': conda)"
  },
  "interpreter": {
   "hash": "ce661e6a3e634e40e4b8b3f544aeffa888c6ff2c086332a58b3f644421b5084c"
  }
 },
 "nbformat": 4,
 "nbformat_minor": 2
}