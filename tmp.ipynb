{
 "cells": [
  {
   "cell_type": "code",
   "execution_count": 6,
   "source": [
    "from ttslearn.tacotron import Tacotron2TTS\n",
    "from tqdm.notebook import tqdm\n",
    "import soundfile as sf\n",
    "\n",
    "engine = Tacotron2TTS()\n",
    "wav, sr = engine.tts(\"\", tqdm=tqdm)\n",
    "sf.write(\"test.wav\", wav, sr)"
   ],
   "outputs": [
    {
     "output_type": "display_data",
     "data": {
      "application/vnd.jupyter.widget-view+json": {
       "version_major": 2,
       "version_minor": 0,
       "model_id": "e589948cd2a2489db1877659213690aa"
      },
      "text/plain": [
       "  0%|          | 0/39600 [00:00<?, ?it/s]"
      ]
     },
     "metadata": {}
    }
   ],
   "metadata": {}
  },
  {
   "cell_type": "code",
   "execution_count": 1,
   "source": [
    "1/(256)**(0.5)"
   ],
   "outputs": [
    {
     "output_type": "execute_result",
     "data": {
      "text/plain": [
       "0.0625"
      ]
     },
     "metadata": {},
     "execution_count": 1
    }
   ],
   "metadata": {}
  },
  {
   "cell_type": "code",
   "execution_count": 33,
   "source": [
    "import torch\n",
    "from vc_tts_template.fastspeech2 import FastSpeech2\n",
    "from vc_tts_template.fastspeech2.optimizer import ScheduledOptim\n",
    "import matplotlib.pyplot as plt\n",
    "import numpy as np\n",
    "\n",
    "model = FastSpeech2(\n",
    "    max_seq_len=1000, num_vocab=52, encoder_hidden_dim=256, encoder_num_layer=2, encoder_num_head=2, conv_filter_size=256,\n",
    "    conv_kernel_size=[9, 1], encoder_dropout=0.2, variance_predictor_filter_size=256, variance_predictor_kernel_size=5, variance_predictor_dropout=0.2,\n",
    "    pitch_feature_level=1, energy_feature_level=1, pitch_quantization=\"linear\", energy_quantization=\"linear\",\n",
    "    n_bins=256, decoder_hidden_dim=256, decoder_num_layer=4, decoder_num_head=2, decoder_dropout=0.2,\n",
    "    n_mel_channel=80, multi_speaker=0, encoder_fix=False, stats={\"pitch_min\": 70, \"pitch_max\": 750, \"energy_min\": 10, \"energy_max\": 27}, \n",
    "    speakers=None\n",
    ")\n",
    "\n",
    "class ScheduledOptim_old:\n",
    "    \"\"\" A simple wrapper class for learning rate scheduling \"\"\"\n",
    "\n",
    "    def __init__(self, optimizer, warm_up_step, anneal_steps, anneal_rate, current_step=0):\n",
    "\n",
    "        self._optimizer = optimizer\n",
    "        self.n_warmup_steps = warm_up_step\n",
    "        self.anneal_steps = anneal_steps\n",
    "        self.anneal_rate = anneal_rate\n",
    "        self.current_step = current_step\n",
    "        self.init_lr = 0.0625\n",
    "\n",
    "    def step_and_update_lr(self):\n",
    "        self._update_learning_rate()\n",
    "        self._optimizer.step()\n",
    "\n",
    "    def zero_grad(self):\n",
    "        # print(self.init_lr)\n",
    "        self._optimizer.zero_grad()\n",
    "\n",
    "    def load_state_dict(self, path):\n",
    "        self._optimizer.load_state_dict(path)\n",
    "\n",
    "    def _get_lr_scale(self):\n",
    "        lr = np.min(\n",
    "            [\n",
    "                np.power(self.current_step, -0.5),\n",
    "                np.power(self.n_warmup_steps, -1.5) * self.current_step,\n",
    "            ]\n",
    "        )\n",
    "        for s in self.anneal_steps:\n",
    "            if self.current_step > s:\n",
    "                lr = lr * self.anneal_rate\n",
    "        return lr\n",
    "\n",
    "    def _update_learning_rate(self):\n",
    "        \"\"\" Learning rate scheduling per step \"\"\"\n",
    "        self.current_step += 1\n",
    "        lr = self.init_lr * self._get_lr_scale()\n",
    "\n",
    "        for param_group in self._optimizer.param_groups:\n",
    "            param_group[\"lr\"] = lr\n",
    "\n",
    "\n",
    "optimizer_old = torch.optim.Adam(\n",
    "            model.parameters(),\n",
    "            betas=[0.9, 0.98],\n",
    "            eps=0.000000001,\n",
    "            weight_decay=0.0,\n",
    ")\n",
    "optimizer = torch.optim.Adam(\n",
    "            model.parameters(),\n",
    "            lr=0.0625,\n",
    "            betas=[0.9, 0.98],\n",
    "            eps=0.000000001,\n",
    "            weight_decay=0.0,\n",
    ")\n",
    "\n",
    "# lr_scheduler_old = ScheduledOptim_old(optimizer_old, 4000, [300000, 400000, 500000], 0.3)\n",
    "lr_scheduler = ScheduledOptim(4000, [300000, 400000, 500000], 0.3)\n",
    "lr_scheduler._set_optimizer(optimizer)\n",
    "\n",
    "# lrs_old = []\n",
    "lrs_new = []\n",
    "\n",
    "for _ in range(10000):\n",
    "    # print(\"old current    step : \", lr_scheduler_old.current_step)\n",
    "    # print(\"old current      lr : \", lr_scheduler_old._get_lr_scale() * lr_scheduler_old.init_lr)\n",
    "    # print(\"old current  params : \", optimizer_old.param_groups[0][\"lr\"])\n",
    "    # print(\"new current    step : \", lr_scheduler.last_epoch)\n",
    "    # print(\"new current      lr : \", lr_scheduler.get_last_lr())\n",
    "    # print(\"new current  params : \", optimizer.param_groups[0][\"lr\"])\n",
    "    # print()\n",
    "    # print(\"=\"*30)\n",
    "    # lrs_old.append(optimizer_old.param_groups[0][\"lr\"])\n",
    "    lrs_new.append(optimizer.param_groups[0][\"lr\"])\n",
    "\n",
    "    # lr_scheduler_old.step_and_update_lr()\n",
    "    lr_scheduler.step()\n",
    "\n",
    "# plt.plot(lrs_old)\n",
    "plt.plot(lrs_new)\n",
    "plt.show()"
   ],
   "outputs": [
    {
     "output_type": "stream",
     "name": "stderr",
     "text": [
      "/home/ynishimura/miniconda3/envs/vc_tts_template/lib/python3.8/site-packages/torch/optim/lr_scheduler.py:128: UserWarning: Detected call of `lr_scheduler.step()` before `optimizer.step()`. In PyTorch 1.1.0 and later, you should call them in the opposite order: `optimizer.step()` before `lr_scheduler.step()`.  Failure to do this will result in PyTorch skipping the first value of the learning rate schedule. See more details at https://pytorch.org/docs/stable/optim.html#how-to-adjust-learning-rate\n",
      "  warnings.warn(\"Detected call of `lr_scheduler.step()` before `optimizer.step()`. \"\n"
     ]
    },
    {
     "output_type": "display_data",
     "data": {
      "image/png": "[encoded data removed]",
      "text/plain": [
       "<Figure size 432x288 with 1 Axes>"
      ]
     },
     "metadata": {
      "needs_background": "light"
     }
    }
   ],
   "metadata": {}
  },
  {
   "cell_type": "code",
   "execution_count": 34,
   "source": [
    "torch.save(optimizer.state_dict(), \"tmp.pth\")\n",
    "torch.save(lr_scheduler.state_dict(), \"tmp_lr.pth\")"
   ],
   "outputs": [],
   "metadata": {}
  },
  {
   "cell_type": "code",
   "execution_count": 35,
   "source": [
    "optimizer_new = torch.optim.Adam(\n",
    "            model.parameters(),\n",
    "            lr=0.0625,\n",
    "            betas=[0.9, 0.98],\n",
    "            eps=0.000000001,\n",
    "            weight_decay=0.0,\n",
    ")\n",
    "optimizer_new.load_state_dict(torch.load(\"tmp.pth\"))\n",
    "print(optimizer_new)\n",
    "lr_scheduler_ = ScheduledOptim(4000, [300000, 400000, 500000], 0.3)\n",
    "lr_scheduler_._set_optimizer(optimizer_new)\n",
    "lr_scheduler_.load_state_dict(torch.load(\"tmp_lr.pth\"))\n",
    "\n",
    "lrs_new_ = []\n",
    "\n",
    "for _ in range(20000):\n",
    "    lrs_new_.append(optimizer_new.param_groups[0][\"lr\"])\n",
    "    lr_scheduler_.step()\n",
    "\n",
    "plt.plot(lrs_new_)\n",
    "plt.show()"
   ],
   "outputs": [
    {
     "output_type": "stream",
     "name": "stdout",
     "text": [
      "Adam (\n",
      "Parameter Group 0\n",
      "    amsgrad: False\n",
      "    betas: [0.9, 0.98]\n",
      "    eps: 1e-09\n",
      "    initial_lr: 0.0625\n",
      "    lr: 0.0006249687523435547\n",
      "    weight_decay: 0.0\n",
      ")\n"
     ]
    },
    {
     "output_type": "display_data",
     "data": {
      "image/png": "[encoded data removed]",
      "text/plain": [
       "<Figure size 432x288 with 1 Axes>"
      ]
     },
     "metadata": {
      "needs_background": "light"
     }
    }
   ],
   "metadata": {}
  },
  {
   "cell_type": "code",
   "execution_count": null,
   "source": [
    "\"\"\"\n",
    "結論\n",
    "- 再現は意外と容易. last_epochと言いつつ, stepごとに更新される値を使って, get_lrを実装すればよいだけ.\n",
    "- loadに関しては, lr_schedulerごと保存しないと意味がない. optimizerだけやっても, 最初から\n",
    "lrのscheduleが始まるだけ.\n",
    "\"\"\""
   ],
   "outputs": [],
   "metadata": {}
  }
 ],
 "metadata": {
  "orig_nbformat": 4,
  "language_info": {
   "name": "python",
   "version": "3.8.11",
   "mimetype": "text/x-python",
   "codemirror_mode": {
    "name": "ipython",
    "version": 3
   },
   "pygments_lexer": "ipython3",
   "nbconvert_exporter": "python",
   "file_extension": ".py"
  },
  "kernelspec": {
   "name": "python3",
   "display_name": "Python 3.8.11 64-bit ('vc_tts_template': conda)"
  },
  "interpreter": {
   "hash": "ce661e6a3e634e40e4b8b3f544aeffa888c6ff2c086332a58b3f644421b5084c"
  }
 },
 "nbformat": 4,
 "nbformat_minor": 2
}