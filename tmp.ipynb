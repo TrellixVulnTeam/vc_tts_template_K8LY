{
 "cells": [
  {
   "cell_type": "code",
   "execution_count": 6,
   "source": [
    "from ttslearn.tacotron import Tacotron2TTS\n",
    "from tqdm.notebook import tqdm\n",
    "import soundfile as sf\n",
    "\n",
    "engine = Tacotron2TTS()\n",
    "wav, sr = engine.tts(\"\", tqdm=tqdm)\n",
    "sf.write(\"test.wav\", wav, sr)"
   ],
   "outputs": [
    {
     "output_type": "display_data",
     "data": {
      "application/vnd.jupyter.widget-view+json": {
       "version_major": 2,
       "version_minor": 0,
       "model_id": "e589948cd2a2489db1877659213690aa"
      },
      "text/plain": [
       "  0%|          | 0/39600 [00:00<?, ?it/s]"
      ]
     },
     "metadata": {}
    }
   ],
   "metadata": {}
  },
  {
   "cell_type": "code",
   "execution_count": 1,
   "source": [
    "1/(256)**(0.5)"
   ],
   "outputs": [
    {
     "output_type": "execute_result",
     "data": {
      "text/plain": [
       "0.0625"
      ]
     },
     "metadata": {},
     "execution_count": 1
    }
   ],
   "metadata": {}
  },
  {
   "cell_type": "code",
   "execution_count": null,
   "source": [],
   "outputs": [],
   "metadata": {}
  }
 ],
 "metadata": {
  "orig_nbformat": 4,
  "language_info": {
   "name": "python",
   "version": "3.8.11",
   "mimetype": "text/x-python",
   "codemirror_mode": {
    "name": "ipython",
    "version": 3
   },
   "pygments_lexer": "ipython3",
   "nbconvert_exporter": "python",
   "file_extension": ".py"
  },
  "kernelspec": {
   "name": "python3",
   "display_name": "Python 3.8.11 64-bit ('vc_tts_template': conda)"
  },
  "interpreter": {
   "hash": "ce661e6a3e634e40e4b8b3f544aeffa888c6ff2c086332a58b3f644421b5084c"
  }
 },
 "nbformat": 4,
 "nbformat_minor": 2
}