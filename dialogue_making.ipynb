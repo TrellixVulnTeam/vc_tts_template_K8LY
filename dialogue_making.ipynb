{
 "cells": [
  {
   "cell_type": "markdown",
   "metadata": {},
   "source": [
    "# 対話状態として1つになった音声を作成します"
   ]
  },
  {
   "cell_type": "code",
   "execution_count": 9,
   "metadata": {},
   "outputs": [],
   "source": [
    "from pathlib import Path\n",
    "\n",
    "# 台本を指定\n",
    "# dialogue_info_txt = \"../dataset/out_LINE_woITAKO/dialogue_info.txt\"\n",
    "dialogue_info_txt = \"../dataset/out_LINE_woITAKO_before_emotion/dialogue_info.txt\"\n",
    "# 音声を指定\n",
    "Teacher_voice_base = Path(\"recipes/fastspeech2wContexts/exp/LINE_wContextwProsody_2_sr22050_LINE_wContextwProsody_13/synthesis_fastspeech2wGMMwContextswProsody_hifigan/eval\")\n",
    "Mstudent_voice_base = Path(\"../dataset/out_LINE_MStudent/LINE_MStudent/wav\")\n",
    "Fstudent_voice_base = Path(\"../dataset/out_LINE_FStudent/LINE_FStudent/wav\")\n",
    "\n",
    "# 出力したいダイアログ名を指定\n",
    "output_dialogue_names = [\"LD12-Dialogue-07\", \"LD11-Dialogue-05\", \"LD14-Dialogue-08\", \"LD13-Dialogue-03\"]\n",
    "\n",
    "# 出力先\n",
    "output_base = Path(\"dialogue_output_LINE_wContextwProsody_13_fastspeech2wGMMwContextswProsody+1つ前emotion+当該prosody\")\n",
    "\n",
    "output_base.mkdir(parents=True, exist_ok=True)\n",
    "\n",
    "# 間に挟む無音時間(s)\n",
    "silence = 0.2\n",
    "\n",
    "# sampling rate\n",
    "sampling_rate = 22050"
   ]
  },
  {
   "cell_type": "markdown",
   "metadata": {},
   "source": [
    "## 実行"
   ]
  },
  {
   "cell_type": "code",
   "execution_count": 10,
   "metadata": {},
   "outputs": [
    {
     "name": "stderr",
     "output_type": "stream",
     "text": [
      "/tmp/ipykernel_83504/3943474037.py:29: WavFileWarning: Chunk (non-data) not understood, skipping it.\n",
      "  _sr, x = wavfile.read(wav_path)\n"
     ]
    }
   ],
   "source": [
    "import numpy as np\n",
    "import librosa\n",
    "from scipy.io import wavfile\n",
    "\n",
    "with open(dialogue_info_txt, 'r') as f:\n",
    "    dialogue_info = f.readlines()\n",
    "\n",
    "def get_dialogue(dialogue_info, dialogue_name):\n",
    "    output = []\n",
    "    for dialogue_txt in dialogue_info:\n",
    "        if dialogue_name in dialogue_txt:\n",
    "            output.append(dialogue_txt.strip())\n",
    "    return output\n",
    "    \n",
    "for output_dialogue_name in output_dialogue_names:\n",
    "    dialogues = get_dialogue(dialogue_info, output_dialogue_name)\n",
    "    output_wav = []\n",
    "    for txt in dialogues:\n",
    "        name = txt.split(\":\")[0]\n",
    "        spk = name.split(\"_\")[0]\n",
    "        if spk == \"PAD\":\n",
    "            continue\n",
    "        elif spk == \"Teacher\":\n",
    "            wav_path = Teacher_voice_base / (name + \".wav\")\n",
    "        elif spk == \"MStudent\":\n",
    "            wav_path = Mstudent_voice_base / (name + \".wav\")\n",
    "        elif spk == \"FStudent\":\n",
    "            wav_path = Fstudent_voice_base / (name + \".wav\")  \n",
    "        _sr, x = wavfile.read(wav_path)\n",
    "        if x.dtype in [np.int16, np.int32]:\n",
    "            x = (x / np.iinfo(x.dtype).max).astype(np.float64)\n",
    "        wav = librosa.resample(x, _sr, sampling_rate)\n",
    "        output_wav += list(wav)\n",
    "        output_wav += [0.0] * int(sampling_rate * silence)\n",
    "\n",
    "    output_path = output_base / (output_dialogue_name + '.wav')\n",
    "    output_wav = (np.array(output_wav) * np.iinfo(np.int16).max).astype(np.int16)\n",
    "    wavfile.write(output_path, sampling_rate, output_wav)"
   ]
  },
  {
   "cell_type": "markdown",
   "metadata": {},
   "source": [
    "### (メモ)おすすめdialogueリスト"
   ]
  },
  {
   "cell_type": "markdown",
   "metadata": {},
   "source": [
    "すべて, eval内から選出\n",
    "\n",
    "LD12-Dialogue-07: Angry\n",
    "```\n",
    "PAD_LD12-Dialogue-07-PAD-Turn-00_PAD:118:0:生徒が部活動の顧問に怒られて不機嫌そうにしているので、講師が生徒に話を聞いてみる\n",
    "Teacher_LD12-Dialogue-07-Teacher-Turn-01_Normal:118:1:こんにちは！\n",
    "MStudent_LD12-Dialogue-07-MStudent-Turn-01_Angry:118:2:先生、聞いてくださいよ！俺、納得いかないことがあるんです！\n",
    "Teacher_LD12-Dialogue-07-Teacher-Turn-02_Normal:118:3:どうしたの？そんな不機嫌そうな顔で。\n",
    "MStudent_LD12-Dialogue-07-MStudent-Turn-02_Angry:118:4:今日、朝練に遅刻しちゃったんですよ。そうしたら顧問の先生が怒って、「遅刻するやつはもう練習に来なくていい！」って、言われて！\n",
    "Teacher_LD12-Dialogue-07-Teacher-Turn-03_Normal:118:5:そうだったの。どうして遅刻したの？\n",
    "MStudent_LD12-Dialogue-07-MStudent-Turn-03_Normal:118:6:登校中に泣いている小学生がいたから、声をかけたんです。走っていたら転んじゃったらしくて。それで、小学校までおぶって行ってあげたんですよ。それで遅れたんです！\n",
    "Teacher_LD12-Dialogue-07-Teacher-Turn-04_Normal:118:7:いいことしたねー！そのことは顧問の先生に説明したの？\n",
    "MStudent_LD12-Dialogue-07-MStudent-Turn-04_Angry:118:8:結局、朝練は参加させてもらえなかったんですけど、昼休みに話をしに行きました。それで、放課後の練習は参加させてもらったんですけど。でも、俺が一番怒ってるのは、朝練に参加できなかったことじゃないんですよ！\n",
    "Teacher_LD12-Dialogue-07-Teacher-Turn-05_Normal:118:9:じゃあ、何に腹が立ったの？\n",
    "MStudent_LD12-Dialogue-07-MStudent-Turn-05_Angry:118:10:その顧問の先生が、俺の話を聞かずに、頭ごなしに怒鳴ったことですよ！俺は寝坊したわけでもないのに！\n",
    "Teacher_LD12-Dialogue-07-Teacher-Turn-06_Angry:118:11:たしかに、それは腹が立っても仕方ないと思うよ！せめて話は聞いてほしかったよねー？\n",
    "MStudent_LD12-Dialogue-07-MStudent-Turn-06_Sad:118:12:そうです。朝からいいことしたなって思ってたんですけど、そのことがあって気分が下がりましたよ。\n",
    "Teacher_LD12-Dialogue-07-Teacher-Turn-07_Happy:118:13:そうだよねー。でも、あなたはその小学生の子にとってヒーローみたいだったと思うよ！\n",
    "MStudent_LD12-Dialogue-07-MStudent-Turn-07_Happy:118:14:そう、ですよね！そう思ってもらえていたら、俺もうれしいです！\n",
    "Teacher_LD12-Dialogue-07-Teacher-Turn-08_Happy:118:15:きっとそうだと思うな！元気出しなよ！\n",
    "MStudent_LD12-Dialogue-07-MStudent-Turn-08_Happy:118:16:そうします。ありがとうございます、先生！\n",
    "```\n",
    "\n",
    "LD11-Dialogue-05: Sad\n",
    "```\n",
    "PAD_LD11-Dialogue-05-PAD-Turn-00_PAD:13:0:生徒が部活動に関するイベントがうまくいかなかったようで、悲しそうにしているので、講師が生徒に話を聞いてみる\n",
    "Teacher_LD11-Dialogue-05-Teacher-Turn-01_Normal:13:1:どうしたー？何か元気ないけど。\n",
    "MStudent_LD11-Dialogue-05-MStudent-Turn-01_Sad:13:2:先生…。ちょっと、悲しいお知らせが。\n",
    "Teacher_LD11-Dialogue-05-Teacher-Turn-02_Sad:13:3:なになに、どうした？\n",
    "MStudent_LD11-Dialogue-05-MStudent-Turn-02_Sad:13:4:先週、部活の大会があって。\n",
    "Teacher_LD11-Dialogue-05-Teacher-Turn-03_Normal:13:5:うんうん。こないだ言ってたね。\n",
    "MStudent_LD11-Dialogue-05-MStudent-Turn-03_Sad:13:6:自己ベストをねらってたんですけど…。\n",
    "Teacher_LD11-Dialogue-05-Teacher-Turn-04_Sad:13:7:ダメだった？\n",
    "MStudent_LD11-Dialogue-05-MStudent-Turn-04_Sad:13:8:はい。自己ベスト以前に、予選敗退でした。\n",
    "Teacher_LD11-Dialogue-05-Teacher-Turn-05_Sad:13:9:それは残念だったねー…。\n",
    "MStudent_LD11-Dialogue-05-MStudent-Turn-05_Sad:13:10:もうショックすぎて。\n",
    "Teacher_LD11-Dialogue-05-Teacher-Turn-06_Normal:13:11:大丈夫？あまり引きずらないことが大事よ。\n",
    "MStudent_LD11-Dialogue-05-MStudent-Turn-06_Normal:13:12:ですよね。切り替えなくちゃ。\n",
    "Teacher_LD11-Dialogue-05-Teacher-Turn-07_Normal:13:13:また大会あるんでしょう？\n",
    "MStudent_LD11-Dialogue-05-MStudent-Turn-07_Normal:13:14:はい、9月に。\n",
    "Teacher_LD11-Dialogue-05-Teacher-Turn-08_Normal:13:15:まだまだチャンスあるよ！頑張ろう！\n",
    "```\n",
    "\n",
    "LD14-Dialogue-08: Happy\n",
    "```\n",
    "PAD_LD14-Dialogue-08-PAD-Turn-00_PAD:58:0:天気が良くて生徒が嬉しそうにしている\n",
    "FStudent_LD14-Dialogue-08-FStudent-Turn-01_Happy:58:1:今日は、塾が終わったら、家族で出かけるんです。\n",
    "Teacher_LD14-Dialogue-08-Teacher-Turn-01_Happy:58:2:そうなんだ！天気もいいし、よかったね！\n",
    "FStudent_LD14-Dialogue-08-FStudent-Turn-02_Happy:58:3:はい。先週、雨で流れたんで、なおさら嬉しいです。\n",
    "Teacher_LD14-Dialogue-08-Teacher-Turn-02_Normal:58:4:どこへいくの？\n",
    "FStudent_LD14-Dialogue-08-FStudent-Turn-03_Happy:58:5:ドッグランに行くんです。\n",
    "Teacher_LD14-Dialogue-08-Teacher-Turn-03_Happy:58:6:そっか！わんちゃんたちも喜ぶね！\n",
    "FStudent_LD14-Dialogue-08-FStudent-Turn-04_Happy:58:7:はい。室内飼いのせいか、外に出ると、すごくはしゃぎ回るんですよ。\n",
    "Teacher_LD14-Dialogue-08-Teacher-Turn-04_Happy:58:8:あなたもはしゃぎ回りそうだよね！\n",
    "FStudent_LD14-Dialogue-08-FStudent-Turn-05_Happy:58:9:まあ、確かに、ちょっとテンション上がりますけど。\n",
    "Teacher_LD14-Dialogue-08-Teacher-Turn-05_Happy:58:10:ちょっとー？\n",
    "FStudent_LD14-Dialogue-08-FStudent-Turn-06_Happy:58:11:いや、だいぶかな。\n",
    "Teacher_LD14-Dialogue-08-Teacher-Turn-06_Happy:58:12:だよね！すごく嬉しそうだもん！\n",
    "FStudent_LD14-Dialogue-08-FStudent-Turn-07_Happy:58:13:いやー、もう、楽しみで。天気もいいから、いろんな犬がたくさんきていると思うんです。\n",
    "Teacher_LD14-Dialogue-08-Teacher-Turn-07_Normal:58:14:じゃあ、残りは宿題ってならないように、集中して問題を解こうね！\n",
    "FStudent_LD14-Dialogue-08-FStudent-Turn-08_Happy:58:15:はーい！頑張ります。\n",
    "```\n",
    "\n",
    "LD13-Dialogue-03: Normal\n",
    "```\n",
    "PAD_LD13-Dialogue-03-PAD-Turn-00_PAD:25:0:生徒が家族と喧嘩したようで、不機嫌そうにしているので、講師が生徒に話を聞いてみる\n",
    "MStudent_LD13-Dialogue-03-MStudent-Turn-01_Angry:25:1:うわ、きっつー。\n",
    "Teacher_LD13-Dialogue-03-Teacher-Turn-01_Normal:25:2:どうしたの？\n",
    "MStudent_LD13-Dialogue-03-MStudent-Turn-02_Normal:25:3:姉さんが夕食を持たせてくれたんですけど。\n",
    "Teacher_LD13-Dialogue-03-Teacher-Turn-02_Normal:25:4:うん。\n",
    "MStudent_LD13-Dialogue-03-MStudent-Turn-03_Angry:25:5:ひどくないですか？梅干しのおにぎりが３つ！\n",
    "Teacher_LD13-Dialogue-03-Teacher-Turn-03_Normal:25:6:あら、美味しそうじゃない！バリエーションは乏しいけど。\n",
    "MStudent_LD13-Dialogue-03-MStudent-Turn-04_Angry:25:7:僕、梅干し食べれないんですよ。\n",
    "Teacher_LD13-Dialogue-03-Teacher-Turn-04_Normal:25:8:ほぉー、これは穏やかじゃないねぇ。何か怒らせるようなことした？\n",
    "MStudent_LD13-Dialogue-03-MStudent-Turn-05_Angry:25:9:いや、むこうが先に僕を怒らせたんですよ。勝手に僕の部屋に入って、机の中を荒らしやがって。\n",
    "Teacher_LD13-Dialogue-03-Teacher-Turn-05_Normal:25:10:それで？\n",
    "MStudent_LD13-Dialogue-03-MStudent-Turn-06_Angry:25:11:だから穏やかに抗議したんですけど、母さんも妹も向こうの味方するんですよねぇ。「姉さんの定規を返さなかった僕の方が悪い」って。\n",
    "Teacher_LD13-Dialogue-03-Teacher-Turn-06_Normal:25:12:たしかに。\n",
    "MStudent_LD13-Dialogue-03-MStudent-Turn-07_Angry:25:13:え、先生も向こうの味方ですか？\n",
    "Teacher_LD13-Dialogue-03-Teacher-Turn-07_Normal:25:14:だって元はと言えば…。\n",
    "MStudent_LD13-Dialogue-03-MStudent-Turn-08_Angry:25:15:それは分かってます。返すのを忘れていた僕も悪い。でも、ひとの机を勝手に荒らした時点で、向こうの方が悪いと思うんです。\n",
    "Teacher_LD13-Dialogue-03-Teacher-Turn-08_Normal:25:16:なるほど、「やり方が良くない」と。それで君は？改めて抗議したの？\n",
    "MStudent_LD13-Dialogue-03-MStudent-Turn-09_Angry:25:17:仕返しに姉さんの部屋に入って、壁に「バカ」って書いてやりました。\n",
    "Teacher_LD13-Dialogue-03-Teacher-Turn-09_Normal:25:18:それはさすがにやりすぎだよ。今日帰ったら、お姉さんとちゃんと仲直りすること。いいですね？\n",
    "MStudent_LD13-Dialogue-03-MStudent-Turn-10_Normal:25:19:う…。そうですね、僕も少し頭に血が上ってたと思います。姉さんと話し合ってみます。\n",
    "Teacher_LD13-Dialogue-03-Teacher-Turn-10_Normal:25:20:それでよし！仲直りできるといいね。\n",
    "```"
   ]
  }
 ],
 "metadata": {
  "interpreter": {
   "hash": "50c878f1979cbc4a6a9067a2691e4153ede6419dbc5ecfbb964ee56e0a0aa73c"
  },
  "kernelspec": {
   "display_name": "Python 3.8.11 64-bit ('vc_tts_template': conda)",
   "language": "python",
   "name": "python3"
  },
  "language_info": {
   "codemirror_mode": {
    "name": "ipython",
    "version": 3
   },
   "file_extension": ".py",
   "mimetype": "text/x-python",
   "name": "python",
   "nbconvert_exporter": "python",
   "pygments_lexer": "ipython3",
   "version": "3.8.11"
  },
  "orig_nbformat": 4
 },
 "nbformat": 4,
 "nbformat_minor": 2
}
