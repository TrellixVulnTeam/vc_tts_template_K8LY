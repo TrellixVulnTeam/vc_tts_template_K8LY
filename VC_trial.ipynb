{
 "cells": [
  {
   "cell_type": "markdown",
   "metadata": {},
   "source": [
    "# VCモデルを試しに使ってみようノート"
   ]
  },
  {
   "cell_type": "markdown",
   "metadata": {},
   "source": [
    "## モデルの用意"
   ]
  },
  {
   "cell_type": "markdown",
   "metadata": {},
   "source": [
    "### ローカルにあるモデルを利用するケース"
   ]
  },
  {
   "cell_type": "code",
   "execution_count": 2,
   "metadata": {},
   "outputs": [
    {
     "name": "stdout",
     "output_type": "stream",
     "text": [
      "The use of pre-trained models is permitted for non-commercial use only.\n",
      "Please visit https://github.com/r9y9/ttslearn to confirm the license.\n",
      "Downloading: \"https://github.com/YutoNishimura-v2/vc_tts_template/releases/download/v0.2.0/fastspeech2VCwGMM_N2C.tar.gz\"\n"
     ]
    },
    {
     "name": "stderr",
     "output_type": "stream",
     "text": [
      "fastspeech2VCwGMM_N2C.tar.gz: 100%|██████████| 244M/244M [00:10<00:00, 24.5MB/s]\n"
     ]
    },
    {
     "name": "stdout",
     "output_type": "stream",
     "text": [
      "Removing weight norm...\n"
     ]
    }
   ],
   "source": [
    "from vc_tts_template.fastspeech2VCwGMM.vc import FastSpeech2VCwGMM\n",
    "\n",
    "model = FastSpeech2VCwGMM(\n",
    "    model_name=\"fastspeech2VCwGMM_N2C\"\n",
    ")"
   ]
  },
  {
   "cell_type": "markdown",
   "metadata": {},
   "source": [
    "### モデルをダウンロードして利用するケース"
   ]
  },
  {
   "cell_type": "markdown",
   "metadata": {},
   "source": [
    "## モデルの実行"
   ]
  },
  {
   "cell_type": "markdown",
   "metadata": {},
   "source": [
    "### リアルタイムで録音再生する場合"
   ]
  },
  {
   "cell_type": "markdown",
   "metadata": {},
   "source": [
    "#### 初期設定"
   ]
  },
  {
   "cell_type": "code",
   "execution_count": 3,
   "metadata": {},
   "outputs": [],
   "source": [
    "import sounddevice as sd\n",
    "from scipy.io import wavfile\n",
    "from time import time\n",
    "\n",
    "# default setting\n",
    "samplerate = 44100\n",
    "channels = 1\n",
    "sd.default.dtype = 'float32'\n",
    "# sd.default.device =   # 適宜変更してください."
   ]
  },
  {
   "cell_type": "markdown",
   "metadata": {},
   "source": [
    "#### 実際に録音&再生"
   ]
  },
  {
   "cell_type": "markdown",
   "metadata": {},
   "source": [
    "##### おすすめの設定\n",
    "- お喋りモード\n",
    "  - duration_prediction=False, pitch_energy_prediction=True (初期値)\n",
    "- お歌モード\n",
    "  - - duration_prediction=False, pitch_energy_prediction=False"
   ]
  },
  {
   "cell_type": "code",
   "execution_count": 36,
   "metadata": {},
   "outputs": [
    {
     "name": "stderr",
     "output_type": "stream",
     "text": [
      "ALSA lib pcm.c:8526:(snd_pcm_recover) underrun occurred\n",
      "ALSA lib pcm.c:8526:(snd_pcm_recover) underrun occurred\n",
      "ALSA lib pcm.c:8526:(snd_pcm_recover) underrun occurred\n",
      "ALSA lib pcm.c:8526:(snd_pcm_recover) underrun occurred\n",
      "ALSA lib pcm.c:8526:(snd_pcm_recover) underrun occurred\n",
      "ALSA lib pcm.c:8526:(snd_pcm_recover) underrun occurred\n",
      "ALSA lib pcm.c:8526:(snd_pcm_recover) underrun occurred\n",
      "ALSA lib pcm.c:8526:(snd_pcm_recover) underrun occurred\n",
      "ALSA lib pcm.c:8526:(snd_pcm_recover) underrun occurred\n",
      "ALSA lib pcm.c:8526:(snd_pcm_recover) underrun occurred\n",
      "ALSA lib pcm.c:8526:(snd_pcm_recover) underrun occurred\n"
     ]
    }
   ],
   "source": [
    "# 指定の秒数だけ録音します。\n",
    "duration = 5.0\n",
    "\n",
    "out_wav = sd.rec(int(duration*samplerate), samplerate=samplerate, channels=channels)\n",
    "\n",
    "sd.wait()\n",
    "\n",
    "out_wav, sr = model.vc(out_wav.reshape(-1), samplerate)\n",
    "\n",
    "sd.play(out_wav, sr)\n",
    "\n",
    "wavfile.write(f\"output_{time()}.wav\", sr, out_wav)"
   ]
  },
  {
   "cell_type": "markdown",
   "metadata": {},
   "source": [
    "### wavファイルが存在している場合"
   ]
  },
  {
   "cell_type": "code",
   "execution_count": 1,
   "metadata": {},
   "outputs": [
    {
     "name": "stdout",
     "output_type": "stream",
     "text": [
      "Removing weight norm...\n"
     ]
    },
    {
     "name": "stderr",
     "output_type": "stream",
     "text": [
      "/tmp/ipykernel_8249/2669726407.py:14: WavFileWarning: Chunk (non-data) not understood, skipping it.\n",
      "  wav_sr, wav = wavfile.read(wav_path)\n"
     ]
    }
   ],
   "source": [
    "from scipy.io import wavfile\n",
    "\n",
    "##################################\n",
    "wav_path = \"recipes/fastspeech2VC/downloads/N2C/source/n_c_beyond-32.wav\"\n",
    "output_wav_path = \"test_output.wav\"\n",
    "##################################3\n",
    "\n",
    "wav_sr, wav = wavfile.read(wav_path)\n",
    "wav_out, sr = model.vc(\n",
    "    wav = wav,\n",
    "    wav_sr=wav_sr,\n",
    ")\n",
    "\n",
    "# save\n",
    "wavfile.write(output_wav_path, sr, wav_out)"
   ]
  },
  {
   "cell_type": "code",
   "execution_count": null,
   "metadata": {},
   "outputs": [],
   "source": []
  }
 ],
 "metadata": {
  "interpreter": {
   "hash": "a0207b08419ae12ef8796aafd2bbc2c5960d7672119f2d24235cb2801e1e38df"
  },
  "kernelspec": {
   "display_name": "Python 3.8.12 64-bit ('vc_tts_template': conda)",
   "name": "python3"
  },
  "language_info": {
   "codemirror_mode": {
    "name": "ipython",
    "version": 3
   },
   "file_extension": ".py",
   "mimetype": "text/x-python",
   "name": "python",
   "nbconvert_exporter": "python",
   "pygments_lexer": "ipython3",
   "version": "3.8.12"
  },
  "orig_nbformat": 4
 },
 "nbformat": 4,
 "nbformat_minor": 2
}
