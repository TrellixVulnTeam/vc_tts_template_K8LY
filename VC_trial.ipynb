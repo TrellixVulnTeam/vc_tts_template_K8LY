{
 "cells": [
  {
   "cell_type": "markdown",
   "metadata": {},
   "source": [
    "# VCモデルを試しに使ってみようノート"
   ]
  },
  {
   "cell_type": "markdown",
   "metadata": {},
   "source": [
    "## モデルの用意"
   ]
  },
  {
   "cell_type": "markdown",
   "metadata": {},
   "source": [
    "### ローカルにあるモデルを利用するケース"
   ]
  },
  {
   "cell_type": "code",
   "execution_count": 1,
   "metadata": {},
   "outputs": [
    {
     "name": "stdout",
     "output_type": "stream",
     "text": [
      "Removing weight norm...\n"
     ]
    }
   ],
   "source": [
    "from vc_tts_template.fastspeech2VCwGMM.vc import FastSpeech2VCwGMM\n",
    "\n",
    "model = FastSpeech2VCwGMM(\n",
    "    model_dir = \"recipes/fastspeech2VC/tts_models/N2C_9_sr22050_N2C_44_fastspeech2VCwGMM_hifigan\"\n",
    ")"
   ]
  },
  {
   "cell_type": "markdown",
   "metadata": {},
   "source": [
    "### モデルをダウンロードして利用するケース"
   ]
  },
  {
   "cell_type": "markdown",
   "metadata": {},
   "source": [
    "## モデルの実行"
   ]
  },
  {
   "cell_type": "markdown",
   "metadata": {},
   "source": [
    "### リアルタイムで録音再生する場合"
   ]
  },
  {
   "cell_type": "code",
   "execution_count": null,
   "metadata": {},
   "outputs": [],
   "source": []
  },
  {
   "cell_type": "markdown",
   "metadata": {},
   "source": [
    "### wavファイルが存在している場合"
   ]
  },
  {
   "cell_type": "code",
   "execution_count": 3,
   "metadata": {},
   "outputs": [],
   "source": [
    "from scipy.io import wavfile\n",
    "\n",
    "##################################\n",
    "wav_path = \"test.wav\"\n",
    "output_wav_path = \"test_output.wav\"\n",
    "##################################3\n",
    "\n",
    "wav_sr, wav = wavfile.read(wav_path)\n",
    "\n",
    "wav_out, sr = model.vc(\n",
    "    wav = wav,\n",
    "    wav_sr=wav_sr\n",
    ")\n",
    "\n",
    "# save\n",
    "wavfile.write(output_wav_path, sr, wav_out)"
   ]
  },
  {
   "cell_type": "code",
   "execution_count": null,
   "metadata": {},
   "outputs": [],
   "source": []
  }
 ],
 "metadata": {
  "interpreter": {
   "hash": "50c878f1979cbc4a6a9067a2691e4153ede6419dbc5ecfbb964ee56e0a0aa73c"
  },
  "kernelspec": {
   "display_name": "Python 3.8.11 64-bit ('vc_tts_template': conda)",
   "name": "python3"
  },
  "language_info": {
   "codemirror_mode": {
    "name": "ipython",
    "version": 3
   },
   "file_extension": ".py",
   "mimetype": "text/x-python",
   "name": "python",
   "nbconvert_exporter": "python",
   "pygments_lexer": "ipython3",
   "version": "3.8.11"
  },
  "orig_nbformat": 4
 },
 "nbformat": 4,
 "nbformat_minor": 2
}
