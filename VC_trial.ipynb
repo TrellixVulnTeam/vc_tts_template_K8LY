{
 "cells": [
  {
   "cell_type": "markdown",
   "metadata": {},
   "source": [
    "# VCモデルを試しに使ってみようノート"
   ]
  },
  {
   "cell_type": "markdown",
   "metadata": {},
   "source": [
    "## モデルの用意"
   ]
  },
  {
   "cell_type": "markdown",
   "metadata": {},
   "source": [
    "### ローカルにあるモデルを利用するケース"
   ]
  },
  {
   "cell_type": "code",
   "execution_count": 24,
   "metadata": {},
   "outputs": [
    {
     "name": "stdout",
     "output_type": "stream",
     "text": [
      "Removing weight norm...\n"
     ]
    }
   ],
   "source": [
    "from vc_tts_template.fastspeech2VCwGMM.vc import FastSpeech2VCwGMM\n",
    "\n",
    "model = FastSpeech2VCwGMM(\n",
    "    # model_dir=\"recipes/fastspeech2VC/tts_models/yuto2hongo_sr22050_yuto2hongo_fastspeech2VCwGMM_hifigan\"\n",
    "    model_dir=\"recipes/fastspeech2VC/tts_models/N2C_9_sr22050_N2C_44_fastspeech2VCwGMM_hifigan\",\n",
    "    # model_dir=\"recipes/fastspeech2VC/tts_models/yuto2allial_sr22050_yuto2allial_fastspeech2VCwGMM_hifigan\"\n",
    ")"
   ]
  },
  {
   "cell_type": "markdown",
   "metadata": {},
   "source": [
    "### モデルをダウンロードして利用するケース"
   ]
  },
  {
   "cell_type": "code",
   "execution_count": null,
   "metadata": {},
   "outputs": [],
   "source": [
    "from vc_tts_template.fastspeech2VCwGMM.vc import FastSpeech2VCwGMM\n",
    "\n",
    "model = FastSpeech2VCwGMM(\n",
    "    model_name=\"fastspeech2VCwGMM_N2C\",\n",
    ")"
   ]
  },
  {
   "cell_type": "markdown",
   "metadata": {},
   "source": [
    "## モデルの実行"
   ]
  },
  {
   "cell_type": "markdown",
   "metadata": {},
   "source": [
    "### リアルタイムで録音再生する場合"
   ]
  },
  {
   "cell_type": "markdown",
   "metadata": {},
   "source": [
    "#### 初期設定"
   ]
  },
  {
   "cell_type": "code",
   "execution_count": 15,
   "metadata": {},
   "outputs": [],
   "source": [
    "import sounddevice as sd\n",
    "from scipy.io import wavfile\n",
    "from time import time\n",
    "\n",
    "# default setting\n",
    "samplerate = 44100\n",
    "channels = 1\n",
    "sd.default.dtype = 'float32'\n",
    "# sd.default.device =   # 適宜変更してください."
   ]
  },
  {
   "cell_type": "markdown",
   "metadata": {},
   "source": [
    "#### 実際に録音&再生"
   ]
  },
  {
   "cell_type": "markdown",
   "metadata": {},
   "source": [
    "##### おすすめの設定\n",
    "- お喋りモード\n",
    "  - duration_prediction=False, pitch_energy_prediction=True (初期値)\n",
    "- お歌モード\n",
    "  - - duration_prediction=False, pitch_energy_prediction=False"
   ]
  },
  {
   "cell_type": "code",
   "execution_count": 21,
   "metadata": {},
   "outputs": [],
   "source": [
    "# 指定の秒数だけ録音します。\n",
    "duration = 10\n",
    "\n",
    "out_wav = sd.rec(int(duration*samplerate), samplerate=samplerate, channels=channels)\n",
    "\n",
    "sd.wait()\n",
    "\n",
    "wavfile.write(f\"input_{time()}.wav\", samplerate, out_wav.reshape(-1))\n",
    "\n",
    "out_wav, sr = model.vc(out_wav.reshape(-1), samplerate, pitch_energy_prediction=True)\n",
    "\n",
    "sd.play(out_wav, sr)\n",
    "\n",
    "wavfile.write(f\"output_{time()}.wav\", sr, out_wav)"
   ]
  },
  {
   "cell_type": "markdown",
   "metadata": {},
   "source": [
    "### wavファイルが存在している場合"
   ]
  },
  {
   "cell_type": "code",
   "execution_count": 25,
   "metadata": {},
   "outputs": [
    {
     "name": "stdout",
     "output_type": "stream",
     "text": [
      "2.1801528930664062\n"
     ]
    }
   ],
   "source": [
    "from scipy.io import wavfile\n",
    "from time import time\n",
    "\n",
    "##################################\n",
    "wav_path = \"input_1635560287.2398.wav\"\n",
    "output_wav_path = f\"output_{time()}.wav\"\n",
    "##################################3\n",
    "\n",
    "wav_sr, wav = wavfile.read(wav_path)\n",
    "wav_out, sr = model.vc(\n",
    "    wav = wav,\n",
    "    wav_sr = wav_sr,\n",
    "    pitch_energy_prediction=True,\n",
    ")\n",
    "\n",
    "# save\n",
    "wavfile.write(output_wav_path, sr, wav_out)"
   ]
  },
  {
   "cell_type": "code",
   "execution_count": null,
   "metadata": {},
   "outputs": [],
   "source": []
  }
 ],
 "metadata": {
  "interpreter": {
   "hash": "a0207b08419ae12ef8796aafd2bbc2c5960d7672119f2d24235cb2801e1e38df"
  },
  "kernelspec": {
   "display_name": "Python 3.8.12 64-bit ('vc_tts_template': conda)",
   "name": "python3"
  },
  "language_info": {
   "codemirror_mode": {
    "name": "ipython",
    "version": 3
   },
   "file_extension": ".py",
   "mimetype": "text/x-python",
   "name": "python",
   "nbconvert_exporter": "python",
   "pygments_lexer": "ipython3",
   "version": "3.8.12"
  },
  "orig_nbformat": 4
 },
 "nbformat": 4,
 "nbformat_minor": 2
}
