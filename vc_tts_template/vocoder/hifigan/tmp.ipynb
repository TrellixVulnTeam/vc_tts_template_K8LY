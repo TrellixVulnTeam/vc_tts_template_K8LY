{
 "cells": [
  {
   "cell_type": "code",
   "execution_count": 2,
   "source": [
    "import torch\n",
    "import os\n",
    "print(os.getcwd())\n",
    "gene = torch.load(\"./weights/g_02500000\")\n",
    "disc = torch.load(\"./weights/do_02500000\")"
   ],
   "outputs": [
    {
     "output_type": "stream",
     "name": "stdout",
     "text": [
      "/home/ynishimura/workspace/python/vc_tts_template/vc_tts_template/vocoder/hifigan\n"
     ]
    }
   ],
   "metadata": {}
  },
  {
   "cell_type": "code",
   "execution_count": 8,
   "source": [
    "print(disc[\"steps\"])\n",
    "print(disc[\"epoch\"])"
   ],
   "outputs": [
    {
     "output_type": "stream",
     "name": "stdout",
     "text": [
      "2500000\n",
      "92\n"
     ]
    }
   ],
   "metadata": {}
  },
  {
   "cell_type": "code",
   "execution_count": 19,
   "source": [
    "import torch\n",
    "model = torch.nn.Linear(10,10)\n",
    "scheduler = torch.optim.lr_scheduler.ExponentialLR(\n",
    "    torch.optim.AdamW(model.parameters(), lr=0.0002), 0.999\n",
    ")\n",
    "print(scheduler.state_dict())\n",
    "\n",
    "for _ in range(92):\n",
    "    scheduler.step()\n",
    "print(scheduler.state_dict())"
   ],
   "outputs": [
    {
     "output_type": "stream",
     "name": "stdout",
     "text": [
      "{'gamma': 0.999, 'base_lrs': [0.0002], 'last_epoch': 0, '_step_count': 1, 'verbose': False, '_get_lr_called_within_step': False, '_last_lr': [0.0002]}\n",
      "{'gamma': 0.999, 'base_lrs': [0.0002], 'last_epoch': 92, '_step_count': 93, 'verbose': False, '_get_lr_called_within_step': False, '_last_lr': [0.00018241263313645436]}\n"
     ]
    },
    {
     "output_type": "stream",
     "name": "stderr",
     "text": [
      "/home/ynishimura/miniconda3/envs/vc_tts_template/lib/python3.8/site-packages/torch/optim/lr_scheduler.py:128: UserWarning: Detected call of `lr_scheduler.step()` before `optimizer.step()`. In PyTorch 1.1.0 and later, you should call them in the opposite order: `optimizer.step()` before `lr_scheduler.step()`.  Failure to do this will result in PyTorch skipping the first value of the learning rate schedule. See more details at https://pytorch.org/docs/stable/optim.html#how-to-adjust-learning-rate\n",
      "  warnings.warn(\"Detected call of `lr_scheduler.step()` before `optimizer.step()`. \"\n"
     ]
    }
   ],
   "metadata": {}
  },
  {
   "cell_type": "code",
   "execution_count": 20,
   "source": [
    "state_dict = {\n",
    "    \"state_dict\": {\n",
    "        \"netG\": gene['generator'],\n",
    "        \"netMPD\": disc['mpd'],\n",
    "        \"netMSD\": disc['msd'],\n",
    "    },\n",
    "    \"optimizer_state\": {\n",
    "        \"g\": disc['optim_g'],\n",
    "        \"d\": disc['optim_d'],\n",
    "    },\n",
    "    \"lr_scheduler_state\": {\n",
    "        \"g\": scheduler.state_dict(),\n",
    "        \"d\": scheduler.state_dict()\n",
    "    }\n",
    "}"
   ],
   "outputs": [],
   "metadata": {}
  },
  {
   "cell_type": "code",
   "execution_count": 21,
   "source": [
    "torch.save(state_dict, \"./weights/universal.pth\")"
   ],
   "outputs": [],
   "metadata": {}
  },
  {
   "cell_type": "code",
   "execution_count": null,
   "source": [],
   "outputs": [],
   "metadata": {}
  }
 ],
 "metadata": {
  "orig_nbformat": 4,
  "language_info": {
   "name": "python",
   "version": "3.8.11",
   "mimetype": "text/x-python",
   "codemirror_mode": {
    "name": "ipython",
    "version": 3
   },
   "pygments_lexer": "ipython3",
   "nbconvert_exporter": "python",
   "file_extension": ".py"
  },
  "kernelspec": {
   "name": "python3",
   "display_name": "Python 3.8.11 64-bit ('vc_tts_template': conda)"
  },
  "interpreter": {
   "hash": "ce661e6a3e634e40e4b8b3f544aeffa888c6ff2c086332a58b3f644421b5084c"
  }
 },
 "nbformat": 4,
 "nbformat_minor": 2
}